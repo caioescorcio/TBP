{
 "cells": [
  {
   "cell_type": "markdown",
   "metadata": {},
   "source": [
    "# VALIDAÇÃO DOS SPLINES CÚBICOS"
   ]
  },
  {
   "cell_type": "code",
   "execution_count": 1,
   "metadata": {},
   "outputs": [],
   "source": [
    "import numpy as np    \n",
    "import polars as pl    \n",
    "from Classes.Splines import CubicSpline as CS_MY\n",
    "from scipy.interpolate import CubicSpline as CS_SP"
   ]
  },
  {
   "cell_type": "markdown",
   "metadata": {},
   "source": [
    "#### FUNÇÃO DE TESTE"
   ]
  },
  {
   "cell_type": "code",
   "execution_count": 4,
   "metadata": {},
   "outputs": [],
   "source": [
    "def f(t):\n",
    "    return 4*t**3 + 2*t**2 + 5*t + 7\n",
    "\n",
    "def f_dot(t):\n",
    "    return 12*t**2 + 4*t + 5\n"
   ]
  },
  {
   "cell_type": "markdown",
   "metadata": {},
   "source": [
    "#### CONSTRUÇÃO DO SPLINE"
   ]
  },
  {
   "cell_type": "code",
   "execution_count": 5,
   "metadata": {},
   "outputs": [],
   "source": [
    "t_train = np.arange(0, 5.5, 0.5)\n",
    "y_train = f(t_train)\n",
    "cs_sp = CS_SP(t_train, y_train)\n",
    "cs_my = CS_MY(t_train, y_train, f_dot(t_train[0]), f_dot(t_train[-1]), bc_type= 'clamped')"
   ]
  },
  {
   "cell_type": "code",
   "execution_count": 6,
   "metadata": {},
   "outputs": [
    {
     "data": {
      "text/plain": [
       "array([0. , 0.5, 1. , 1.5, 2. , 2.5, 3. , 3.5, 4. , 4.5, 5. ])"
      ]
     },
     "execution_count": 6,
     "metadata": {},
     "output_type": "execute_result"
    }
   ],
   "source": [
    "t_train"
   ]
  },
  {
   "cell_type": "markdown",
   "metadata": {},
   "source": [
    "#### TESTE DO SPLINE"
   ]
  },
  {
   "cell_type": "code",
   "execution_count": 7,
   "metadata": {},
   "outputs": [],
   "source": [
    "t_test = np.arange(0, 3, 0.33)\n",
    "y_test = f(t_test)\n",
    "y_spline_my = cs_my(t_test)\n",
    "y_spline_sp = cs_sp(t_test)"
   ]
  },
  {
   "cell_type": "markdown",
   "metadata": {},
   "source": [
    "#### SCIPY"
   ]
  },
  {
   "cell_type": "code",
   "execution_count": 8,
   "metadata": {},
   "outputs": [],
   "source": [
    "erro_scipy = np.absolute(y_spline_sp - y_test)"
   ]
  },
  {
   "cell_type": "markdown",
   "metadata": {},
   "source": [
    "### AUTORAL"
   ]
  },
  {
   "cell_type": "code",
   "execution_count": 9,
   "metadata": {},
   "outputs": [],
   "source": [
    "erro_eu = np.absolute(y_spline_my - y_test)"
   ]
  },
  {
   "cell_type": "markdown",
   "metadata": {},
   "source": [
    "### TABELA DE ERROS"
   ]
  },
  {
   "cell_type": "code",
   "execution_count": 21,
   "metadata": {},
   "outputs": [],
   "source": [
    "df = pl.DataFrame({\n",
    "    't': t_test,\n",
    "    'f(t)': y_test,\n",
    "    'H(t)': y_spline_sp,\n",
    "    'S(t)': y_spline_my,\n",
    "    '|H(t) - f(t)|': erro_scipy,\n",
    "    '|S(t) - f(t)|': erro_eu\n",
    "}).filter(pl.col('t')%0.5 != 0)\n",
    "\n",
    "# Set values in scientific notation\n",
    "df = df.select(pl.all().map_elements(lambda s: \"{:.3e}\".format(s)))"
   ]
  },
  {
   "cell_type": "code",
   "execution_count": 23,
   "metadata": {},
   "outputs": [],
   "source": [
    "df.write_csv('Tabelas/Comparacao_splines.csv')\n",
    "!python tably.py Tabelas/Comparacao_splines.csv > Tabelas/Comparacao_splines.tex"
   ]
  }
 ],
 "metadata": {
  "kernelspec": {
   "display_name": "Python 3 (ipykernel)",
   "language": "python",
   "name": "python3"
  },
  "language_info": {
   "codemirror_mode": {
    "name": "ipython",
    "version": 3
   },
   "file_extension": ".py",
   "mimetype": "text/x-python",
   "name": "python",
   "nbconvert_exporter": "python",
   "pygments_lexer": "ipython3",
   "version": "3.10.12"
  }
 },
 "nbformat": 4,
 "nbformat_minor": 4
}
